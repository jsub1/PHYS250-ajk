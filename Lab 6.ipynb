{
 "metadata": {
  "name": ""
 },
 "nbformat": 3,
 "nbformat_minor": 0,
 "worksheets": [
  {
   "cells": [
    {
     "cell_type": "code",
     "collapsed": false,
     "input": [
      "import urllib\n",
      "import scipy.integrate as integ\n",
      "import scipy.optimize as opt\n",
      "import scipy.interpolate as interp\n",
      "url = 'http://www.phys.cwru.edu/courses/p250/data/electron-Fe-scattering.dat'\n",
      "fp = urllib.urlopen(url)  # Fill in the correct url yourself!\n",
      "X = loadtxt(fp)\n",
      "fp.close()"
     ],
     "language": "python",
     "metadata": {},
     "outputs": [],
     "prompt_number": 1
    },
    {
     "cell_type": "code",
     "collapsed": false,
     "input": [
      "X.shape"
     ],
     "language": "python",
     "metadata": {},
     "outputs": [
      {
       "metadata": {},
       "output_type": "pyout",
       "prompt_number": 2,
       "text": [
        "(50, 33)"
       ]
      }
     ],
     "prompt_number": 2
    },
    {
     "cell_type": "code",
     "collapsed": false,
     "input": [
      "angle = X[0,:]"
     ],
     "language": "python",
     "metadata": {},
     "outputs": [],
     "prompt_number": 3
    },
    {
     "cell_type": "code",
     "collapsed": false,
     "input": [
      "angle.shape"
     ],
     "language": "python",
     "metadata": {},
     "outputs": [
      {
       "metadata": {},
       "output_type": "pyout",
       "prompt_number": 4,
       "text": [
        "(33,)"
       ]
      }
     ],
     "prompt_number": 4
    },
    {
     "cell_type": "code",
     "collapsed": false,
     "input": [
      "fp = urllib.urlopen(url)\n",
      "Y = loadtxt(fp,skiprows=1)\n",
      "fp.close()"
     ],
     "language": "python",
     "metadata": {},
     "outputs": [],
     "prompt_number": 5
    },
    {
     "cell_type": "code",
     "collapsed": false,
     "input": [
      "E = Y[:,0]\n",
      "sigma_total = Y[:,34]\n",
      "sigma = Y[:,1:34]"
     ],
     "language": "python",
     "metadata": {},
     "outputs": [],
     "prompt_number": 6
    },
    {
     "cell_type": "code",
     "collapsed": false,
     "input": [
      "row_ind = where(E == 10000)[0][0]\n",
      "row_dat = sigma[row_ind,:]"
     ],
     "language": "python",
     "metadata": {},
     "outputs": [],
     "prompt_number": 7
    },
    {
     "cell_type": "code",
     "collapsed": false,
     "input": [
      "sum(row_dat)-sigma_total[row_ind]"
     ],
     "language": "python",
     "metadata": {},
     "outputs": [
      {
       "metadata": {},
       "output_type": "pyout",
       "prompt_number": 8,
       "text": [
        "1.4141613649999997e-14"
       ]
      }
     ],
     "prompt_number": 8
    },
    {
     "cell_type": "code",
     "collapsed": false,
     "input": [
      "val_trap = 2*pi*integ.trapz(sin(angle*pi/180)*row_dat,angle*pi/180)"
     ],
     "language": "python",
     "metadata": {},
     "outputs": [],
     "prompt_number": 9
    },
    {
     "cell_type": "code",
     "collapsed": false,
     "input": [
      "integrand = interp.InterpolatedUnivariateSpline(angle*pi/180,sin(angle*pi/180)*row_dat)\n",
      "val_spline=2*pi*integrand.integral(0,pi)\n",
      "val = val_spline\n",
      "val_spline"
     ],
     "language": "python",
     "metadata": {},
     "outputs": [
      {
       "metadata": {},
       "output_type": "pyout",
       "prompt_number": 10,
       "text": [
        "3.856641095503861e-17"
       ]
      }
     ],
     "prompt_number": 10
    },
    {
     "cell_type": "code",
     "collapsed": false,
     "input": [
      "def f(theta,percent = 0.01):\n",
      "    return percent*val_spline-2*pi*integrand.integral(theta,pi)\n",
      "thetaprime = opt.brentq(f,1.,2.)\n",
      "ang = thetaprime*180/pi\n",
      "print ang"
     ],
     "language": "python",
     "metadata": {},
     "outputs": [
      {
       "output_type": "stream",
       "stream": "stdout",
       "text": [
        "58.3026220194\n"
       ]
      }
     ],
     "prompt_number": 11
    },
    {
     "cell_type": "code",
     "collapsed": false,
     "input": [
      "datspline = interp.InterpolatedUnivariateSpline(angle*pi/180,row_dat)"
     ],
     "language": "python",
     "metadata": {},
     "outputs": [],
     "prompt_number": 12
    },
    {
     "cell_type": "code",
     "collapsed": false,
     "input": [
      "xx = linspace(0,pi,1000)\n",
      "clf()\n",
      "plot(angle,row_dat,'k^',label = 'Raw Data')\n",
      "plot(xx*180/pi,datspline(xx),'b-',label = 'Spline of Data')\n",
      "fill_between(180/pi*xx,datspline(xx),1e-20,alpha = 0.1,where = xx >= thetaprime,color = 'g')\n",
      "yscale('log')\n",
      "vlines(ang,1e-20,datspline(thetaprime),'g', label = 'One Percent Scattering')\n",
      "legend()\n",
      "xlabel('Angle (degrees)')\n",
      "ylabel('Differential Cross Section Scattering')\n",
      "title('Differential Cross Section Scattering vs. Angle for Electrons from Iron at 10keV')"
     ],
     "language": "python",
     "metadata": {},
     "outputs": [
      {
       "metadata": {},
       "output_type": "pyout",
       "prompt_number": 13,
       "text": [
        "<matplotlib.text.Text at 0x10bd57050>"
       ]
      }
     ],
     "prompt_number": 13
    },
    {
     "cell_type": "code",
     "collapsed": false,
     "input": [
      "col_ind = where(angle == 20)[0][0]\n",
      "col_dat = sigma[:,col_ind]\n",
      "splineE = interp.InterpolatedUnivariateSpline(E[::-1],col_dat[::-1])"
     ],
     "language": "python",
     "metadata": {},
     "outputs": [],
     "prompt_number": 23
    },
    {
     "cell_type": "code",
     "collapsed": false,
     "input": [
      "clf()\n",
      "EE = linspace(0,30000,5000)\n",
      "plot(EE,splineE(EE))\n",
      "plot(E,col_dat,'k*')\n",
      "#yscale('log')\n",
      "xscale('log')\n",
      "hlines(0,1,1e4)"
     ],
     "language": "python",
     "metadata": {},
     "outputs": [
      {
       "metadata": {},
       "output_type": "pyout",
       "prompt_number": 34,
       "text": [
        "<matplotlib.collections.LineCollection at 0x10a521650>"
       ]
      }
     ],
     "prompt_number": 34
    },
    {
     "cell_type": "code",
     "collapsed": false,
     "input": [
      "splineElog = interp.InterpolatedUnivariateSpline(E[::-1],log(col_dat[::-1]))\n",
      "EE = linspace(4,30000,5000)"
     ],
     "language": "python",
     "metadata": {},
     "outputs": [],
     "prompt_number": 41
    },
    {
     "cell_type": "code",
     "collapsed": false,
     "input": [
      "clf()\n",
      "plot(E,col_dat,'yo',label = 'Raw Data')\n",
      "plot(EE,splineE(EE),'b-',label = 'Standard Spline')\n",
      "plot(EE,exp(splineElog(EE)),'r--',label = 'Log Spline')\n",
      "yscale('log')\n",
      "xscale('log')\n",
      "legend()\n",
      "xlabel('Energy (eV)')\n",
      "ylabel('Differential Cross Section')\n",
      "title('Differental Cross Section vs. Energy label for Electron from Iron at 20 degrees')"
     ],
     "language": "python",
     "metadata": {},
     "outputs": [
      {
       "metadata": {},
       "output_type": "pyout",
       "prompt_number": 43,
       "text": [
        "<matplotlib.text.Text at 0x110633fd0>"
       ]
      }
     ],
     "prompt_number": 43
    },
    {
     "cell_type": "code",
     "collapsed": false,
     "input": [],
     "language": "python",
     "metadata": {},
     "outputs": []
    }
   ],
   "metadata": {}
  }
 ]
}