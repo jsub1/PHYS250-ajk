{
 "metadata": {
  "name": ""
 },
 "nbformat": 3,
 "nbformat_minor": 0,
 "worksheets": [
  {
   "cells": [
    {
     "cell_type": "code",
     "collapsed": false,
     "input": [
      "import scipy.integrate as inter"
     ],
     "language": "python",
     "metadata": {},
     "outputs": [],
     "prompt_number": 2
    },
    {
     "cell_type": "code",
     "collapsed": false,
     "input": [
      "array = arange(20)"
     ],
     "language": "python",
     "metadata": {},
     "outputs": [],
     "prompt_number": 3
    },
    {
     "cell_type": "code",
     "collapsed": false,
     "input": [
      "array[0:20:3]"
     ],
     "language": "python",
     "metadata": {},
     "outputs": [
      {
       "metadata": {},
       "output_type": "pyout",
       "prompt_number": 4,
       "text": [
        "array([ 0,  3,  6,  9, 12, 15, 18])"
       ]
      }
     ],
     "prompt_number": 4
    },
    {
     "cell_type": "code",
     "collapsed": false,
     "input": [
      "a=rand(6,4)\n",
      "a"
     ],
     "language": "python",
     "metadata": {},
     "outputs": [
      {
       "metadata": {},
       "output_type": "pyout",
       "prompt_number": 5,
       "text": [
        "array([[ 0.13112154,  0.18881833,  0.2931442 ,  0.75176344],\n",
        "       [ 0.55187355,  0.81795742,  0.67420556,  0.62107401],\n",
        "       [ 0.103802  ,  0.74338623,  0.08200112,  0.9280451 ],\n",
        "       [ 0.66907303,  0.59776311,  0.85756098,  0.4439454 ],\n",
        "       [ 0.9755315 ,  0.44862537,  0.39023847,  0.53749444],\n",
        "       [ 0.41699421,  0.92703305,  0.2132641 ,  0.08999795]])"
       ]
      }
     ],
     "prompt_number": 5
    },
    {
     "cell_type": "code",
     "collapsed": false,
     "input": [
      "a[0:6:2,0:4:3]"
     ],
     "language": "python",
     "metadata": {},
     "outputs": [
      {
       "metadata": {},
       "output_type": "pyout",
       "prompt_number": 6,
       "text": [
        "array([[ 0.13112154,  0.75176344],\n",
        "       [ 0.103802  ,  0.9280451 ],\n",
        "       [ 0.9755315 ,  0.53749444]])"
       ]
      }
     ],
     "prompt_number": 6
    },
    {
     "cell_type": "code",
     "collapsed": false,
     "input": [
      "a[where(a>0.5)]*=-1"
     ],
     "language": "python",
     "metadata": {},
     "outputs": [],
     "prompt_number": 7
    },
    {
     "cell_type": "code",
     "collapsed": false,
     "input": [
      "def accel(yvec,t,omegavec):\n",
      "    vvec = yvec[0:3]\n",
      "    v = sqrt(vvec[0]**2+vvec[1]**2+vvec[2]**2)\n",
      "    vd=35\n",
      "    delta=5\n",
      "    B=4.1e-4\n",
      "    g = 9.81\n",
      "    accel = -(0.0039+0.0058/(1+exp((v-vd)/delta)))*v*vvec+B*cross(omegavec,vvec)-g*np.array([0,0,1])\n",
      "    return np.array([accel[0],accel[1],accel[2],vvec[0],vvec[1],vvec[2]]) "
     ],
     "language": "python",
     "metadata": {},
     "outputs": [],
     "prompt_number": 8
    },
    {
     "cell_type": "code",
     "collapsed": false,
     "input": [
      "v0mph = 95\n",
      "thetadeg = 1\n",
      "spinrpm = 1800\n",
      "orientationdeg = 225\n",
      "v0 = v0mph*0.44704*np.array([cos(thetadeg*pi/180),0,sin(thetadeg*pi/180)])\n",
      "omega0 = (2*pi*spinrpm/60)*np.array([0,sin(orientationdeg*pi/180),cos(orientationdeg*pi/180)])\n",
      "y0 = np.array([v0[0],v0[1],v0[2],0,0,0])\n",
      "t = linspace(0,0.5,1000)"
     ],
     "language": "python",
     "metadata": {},
     "outputs": [],
     "prompt_number": 9
    },
    {
     "cell_type": "code",
     "collapsed": false,
     "input": [
      "result = inter.odeint(accel,y0,t,args=(omega0,))"
     ],
     "language": "python",
     "metadata": {},
     "outputs": [],
     "prompt_number": 10
    },
    {
     "cell_type": "code",
     "collapsed": false,
     "input": [
      "result[:,3:6]*=3.28084 \n",
      "result[:,0:3]*=2.23694"
     ],
     "language": "python",
     "metadata": {},
     "outputs": [],
     "prompt_number": 11
    },
    {
     "cell_type": "code",
     "collapsed": false,
     "input": [
      "result[456,3]\n",
      "t[911]\n",
      "sqrt(sum(result[911,0:3]**2))"
     ],
     "language": "python",
     "metadata": {},
     "outputs": [
      {
       "metadata": {},
       "output_type": "pyout",
       "prompt_number": 12,
       "text": [
        "86.291786588987705"
       ]
      }
     ],
     "prompt_number": 12
    },
    {
     "cell_type": "code",
     "collapsed": false,
     "input": [
      "a = where(result[:,3]>=60.5)\n",
      "a[0][0]"
     ],
     "language": "python",
     "metadata": {},
     "outputs": [
      {
       "metadata": {},
       "output_type": "pyout",
       "prompt_number": 21,
       "text": [
        "911"
       ]
      }
     ],
     "prompt_number": 21
    },
    {
     "cell_type": "code",
     "collapsed": false,
     "input": [
      "clf()\n",
      "plot(result[:,3],result[:,4],'b-',label = 'Horizontal Displacement')\n",
      "plot(result[:,3],result[:,5],'g--',label = 'Vertical Displacement')\n",
      "plot(result[911,3],result[911,4],'k*',label = 'Crosses Home Plate')\n",
      "plot(result[911,3],result[911,5],'k*')\n",
      "legend()\n",
      "xlabel('Distance Traveled on the x-axis (ft)')\n",
      "ylabel('Displacement (ft)')\n",
      "title('Displacement vs. Distance from the Pitcher\\'s Mound for a Fastball')"
     ],
     "language": "python",
     "metadata": {},
     "outputs": [
      {
       "metadata": {},
       "output_type": "pyout",
       "prompt_number": 24,
       "text": [
        "<matplotlib.text.Text at 0x1095fc450>"
       ]
      }
     ],
     "prompt_number": 24
    },
    {
     "cell_type": "code",
     "collapsed": false,
     "input": [],
     "language": "python",
     "metadata": {},
     "outputs": [],
     "prompt_number": 14
    }
   ],
   "metadata": {}
  }
 ]
}