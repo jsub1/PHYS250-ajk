{
 "metadata": {
  "name": ""
 },
 "nbformat": 3,
 "nbformat_minor": 0,
 "worksheets": [
  {
   "cells": [
    {
     "cell_type": "code",
     "collapsed": false,
     "input": [
      "import scipy.linalg as la\n",
      "import scipy.interpolate as interp"
     ],
     "language": "python",
     "metadata": {},
     "outputs": [],
     "prompt_number": 12
    },
    {
     "cell_type": "code",
     "collapsed": false,
     "input": [
      "h = 0.001\n",
      "a_band = zeros((2,999))\n",
      "a_band[0,1:] = 1\n",
      "a_band[1,:] = -2\n",
      "a_band = a_band*(-1/(2*h**2))\n",
      "E,psi = la.eig_banded(a_band)"
     ],
     "language": "python",
     "metadata": {},
     "outputs": [],
     "prompt_number": 6
    },
    {
     "cell_type": "code",
     "collapsed": false,
     "input": [
      "for ind in xrange(E.size):\n",
      "    magsquared = sum(psit[ind]*psit[ind]*h)\n",
      "    psit[ind]=psit[ind]/sqrt(magsquared)"
     ],
     "language": "python",
     "metadata": {},
     "outputs": [],
     "prompt_number": 11
    },
    {
     "cell_type": "code",
     "collapsed": false,
     "input": [
      "def Etrue(n):\n",
      "    return n**2*pi**2/2\n",
      "def psitrue(n,x):\n",
      "    return sqrt(2)*sin(n*pi*x)"
     ],
     "language": "python",
     "metadata": {},
     "outputs": [],
     "prompt_number": 13
    },
    {
     "cell_type": "code",
     "collapsed": false,
     "input": [
      "psit = zeros((1001,999))\n",
      "psit[0,:]=0\n",
      "psit[1:1000,:] = psi\n",
      "psit[1000,:] =0\n",
      "psit = psit.T\n",
      "x = linspace(0,1,1001)"
     ],
     "language": "python",
     "metadata": {},
     "outputs": [],
     "prompt_number": 8
    },
    {
     "cell_type": "code",
     "collapsed": false,
     "input": [
      "clf()\n",
      "plot(x,psit[0],'r-',label = 'Numerical n=1 State')\n",
      "plot(x,psitrue(1,x),'b--',label = 'Analytical n=1 state')\n",
      "plot(x,-psit[1],'k-',label = 'Numerical n=2 State')\n",
      "plot(x,psitrue(2,x),'y--',label = 'Analytical n=2 state')\n",
      "plot(x,-psit[2],'c-',label = 'Numerical n=3 State')\n",
      "plot(x,psitrue(3,x),'m--',label = 'Analytical n=3 state')\n",
      "legend(loc=3)\n",
      "title('Numerical and Analytical Energy Eigenstates for an Infinite Square Well of Length 1')\n",
      "xlabel('Position')\n",
      "ylabel('Probability Amplitude')"
     ],
     "language": "python",
     "metadata": {},
     "outputs": [
      {
       "metadata": {},
       "output_type": "pyout",
       "prompt_number": 14,
       "text": [
        "<matplotlib.text.Text at 0x10a2fa390>"
       ]
      }
     ],
     "prompt_number": 14
    },
    {
     "cell_type": "code",
     "collapsed": false,
     "input": [
      "h = 0.005\n",
      "x = linspace(0,5,1001)\n",
      "a_band = zeros((2,999))\n",
      "a_band[0,1:] = 1*(-1/(2*h**2))\n",
      "a_band[1,:] = -2*(-1/(2*h**2))+lab8_3_potential(x[1:1000],1.)\n",
      "E,psi = la.eig_banded(a_band)\n",
      "psit = zeros((1001,999))\n",
      "psit[0,:]=0\n",
      "psit[1:1000,:] = psi\n",
      "psit[1000,:] =0\n",
      "psit = psit.T"
     ],
     "language": "python",
     "metadata": {},
     "outputs": [],
     "prompt_number": 3
    },
    {
     "cell_type": "code",
     "collapsed": false,
     "input": [
      "for ind in xrange(E.size):\n",
      "    magsquared = sum(psit[ind]*psit[ind]*h)\n",
      "    psit[ind]=psit[ind]/sqrt(magsquared)"
     ],
     "language": "python",
     "metadata": {},
     "outputs": [],
     "prompt_number": 4
    },
    {
     "cell_type": "code",
     "collapsed": false,
     "input": [
      "clf()\n",
      "Emax = 210\n",
      "plot(E[where(E<=Emax)],'ko',label = 'Energy Eigenvalues')\n",
      "hlines(200,0,where(E<=Emax)[0].size-.1,color = 'b',label ='V0')\n",
      "hlines(50,0,where(E<=Emax)[0].size-.1,color = 'r',label ='V1')\n",
      "hlines(100,0,where(E<=Emax)[0].size-.1,color = 'g',label ='V2')\n",
      "legend(loc=2)\n",
      "xlabel('Index')\n",
      "ylabel('Energy')\n",
      "title('Energy Eigenvalues of Bound States of a Piecewise Potential')"
     ],
     "language": "python",
     "metadata": {},
     "outputs": [
      {
       "metadata": {},
       "output_type": "pyout",
       "prompt_number": 26,
       "text": [
        "<matplotlib.text.Text at 0x110a47c10>"
       ]
      }
     ],
     "prompt_number": 26
    },
    {
     "cell_type": "code",
     "collapsed": false,
     "input": [
      "clf()\n",
      "plot(x,psit[3]**2,'b-',label='n=4 state')\n",
      "plot(x,psit[4]**2,'r--',label='n=5 state')\n",
      "plot(x,psit[5]**2,'g-.',label='n=6 state')\n",
      "xlabel('Position')\n",
      "ylabel('Probability Density')\n",
      "title('Probability Density vs Position for the Second 3 Bound States of a Piecewise Potential')\n",
      "ylim(-.01,2.8)\n",
      "vlines(1,0,2.8)\n",
      "vlines(1.75,0,2.8)\n",
      "vlines(xt,0,2.8)\n",
      "legend()"
     ],
     "language": "python",
     "metadata": {},
     "outputs": [
      {
       "metadata": {},
       "output_type": "pyout",
       "prompt_number": 20,
       "text": [
        "<matplotlib.legend.Legend at 0x10dc97d10>"
       ]
      }
     ],
     "prompt_number": 20
    },
    {
     "cell_type": "code",
     "collapsed": false,
     "input": [
      "where(E<100)[0].size"
     ],
     "language": "python",
     "metadata": {},
     "outputs": [
      {
       "metadata": {},
       "output_type": "pyout",
       "prompt_number": 9,
       "text": [
        "6"
       ]
      }
     ],
     "prompt_number": 9
    },
    {
     "cell_type": "code",
     "collapsed": false,
     "input": [
      "plot?"
     ],
     "language": "python",
     "metadata": {},
     "outputs": [],
     "prompt_number": 28
    },
    {
     "cell_type": "code",
     "collapsed": false,
     "input": [
      "def lab8_3_potential (x,a) :\n",
      "    \"\"\"Evaluate the potential from lab 8, problem 3.\"\"\"\n",
      "    x = atleast_1d(x)\n",
      "    res = zeros(len(x))\n",
      "    a = float(a)\n",
      "    beta = 9*a/8.\n",
      "    gamma = 1./(beta-a)**2\n",
      "    V0 = 200.\n",
      "    V1 = 50.\n",
      "    V2 = 100.\n",
      "    x2 = 1.75\n",
      "    xt = beta + (beta-a)*sqrt(1.-V1/V0)\n",
      "    ind, = where((x-a)*(xt-x)>0)\n",
      "    res[ind] = V0*(1-gamma*(x[ind]-beta)**2)\n",
      "    ind, = where((x-xt)*(x2-x)>0)\n",
      "    res[ind] = V1\n",
      "    ind, = where(x>=x2)\n",
      "    res[ind] = V2\n",
      "    return res"
     ],
     "language": "python",
     "metadata": {},
     "outputs": [],
     "prompt_number": 2
    },
    {
     "cell_type": "code",
     "collapsed": false,
     "input": [
      "hlines?"
     ],
     "language": "python",
     "metadata": {},
     "outputs": [],
     "prompt_number": 38
    },
    {
     "cell_type": "code",
     "collapsed": false,
     "input": [
      "print psi[2]**2"
     ],
     "language": "python",
     "metadata": {},
     "outputs": [
      {
       "output_type": "stream",
       "stream": "stdout",
       "text": [
        "[  3.47248464e-03   1.38039649e-02   3.07040314e-02 ...,   2.99901179e-20\n",
        "   5.94004949e-21   2.48798055e-15]\n"
       ]
      }
     ],
     "prompt_number": 15
    },
    {
     "cell_type": "code",
     "collapsed": false,
     "input": [
      "clf()\n",
      "plot(x,lab8_3_potential(x,1))\n",
      "hlines(-10,0,5)"
     ],
     "language": "python",
     "metadata": {},
     "outputs": [
      {
       "metadata": {},
       "output_type": "pyout",
       "prompt_number": 21,
       "text": [
        "<matplotlib.collections.LineCollection at 0x109f89750>"
       ]
      }
     ],
     "prompt_number": 21
    },
    {
     "cell_type": "code",
     "collapsed": false,
     "input": [
      "    a = 1.\n",
      "    beta = 9*a/8.\n",
      "    gamma = 1./(beta-a)**2\n",
      "    V0 = 200.\n",
      "    V1 = 50.\n",
      "    V2 = 100.\n",
      "    x2 = 1.75\n",
      "    xt = beta + (beta-a)*sqrt(1.-V1/V0)"
     ],
     "language": "python",
     "metadata": {},
     "outputs": [],
     "prompt_number": 7
    },
    {
     "cell_type": "code",
     "collapsed": false,
     "input": [
      "xt"
     ],
     "language": "python",
     "metadata": {},
     "outputs": [
      {
       "metadata": {},
       "output_type": "pyout",
       "prompt_number": 7,
       "text": [
        "1.2332531754730549"
       ]
      }
     ],
     "prompt_number": 7
    },
    {
     "cell_type": "code",
     "collapsed": false,
     "input": [
      "print a_band[1,:]"
     ],
     "language": "python",
     "metadata": {},
     "outputs": [],
     "prompt_number": "*"
    },
    {
     "cell_type": "code",
     "collapsed": false,
     "input": [
      "E"
     ],
     "language": "python",
     "metadata": {},
     "outputs": [
      {
       "metadata": {},
       "output_type": "pyout",
       "prompt_number": 15,
       "text": [
        "array([  4.19135612e+00,   1.67361968e+01,   3.75362971e+01, ...,\n",
        "         8.00982496e+04,   8.00995623e+04,   8.01247957e+04])"
       ]
      }
     ],
     "prompt_number": 15
    },
    {
     "cell_type": "code",
     "collapsed": false,
     "input": [
      "spl = interp.InterpolatedUnivariateSpline(x,psit[5]**2)"
     ],
     "language": "python",
     "metadata": {},
     "outputs": [],
     "prompt_number": 15
    },
    {
     "cell_type": "code",
     "collapsed": false,
     "input": [
      "print spl.integral(0,1)\n",
      "print spl.integral(1,xt)\n",
      "print spl.integral(xt,1.75)\n",
      "print spl.integral(1.75,5)\n",
      "print spl.integral(0,5)"
     ],
     "language": "python",
     "metadata": {},
     "outputs": [
      {
       "output_type": "stream",
       "stream": "stdout",
       "text": [
        "0.00637165283389\n",
        "0.0510371926919\n",
        "0.76350822234\n",
        "0.179082931983\n",
        "0.999999999849\n"
       ]
      }
     ],
     "prompt_number": 16
    },
    {
     "cell_type": "code",
     "collapsed": false,
     "input": [
      "linspace(0,5,1001)"
     ],
     "language": "python",
     "metadata": {},
     "outputs": [
      {
       "metadata": {},
       "output_type": "pyout",
       "prompt_number": 42,
       "text": [
        "array([ 0.   ,  0.005,  0.01 , ...,  4.99 ,  4.995,  5.   ])"
       ]
      }
     ],
     "prompt_number": 42
    },
    {
     "cell_type": "code",
     "collapsed": false,
     "input": [
      "where(x<=1)[0]"
     ],
     "language": "python",
     "metadata": {},
     "outputs": [
      {
       "metadata": {},
       "output_type": "pyout",
       "prompt_number": 59,
       "text": [
        "array([  0,   1,   2,   3,   4,   5,   6,   7,   8,   9,  10,  11,  12,\n",
        "        13,  14,  15,  16,  17,  18,  19,  20,  21,  22,  23,  24,  25,\n",
        "        26,  27,  28,  29,  30,  31,  32,  33,  34,  35,  36,  37,  38,\n",
        "        39,  40,  41,  42,  43,  44,  45,  46,  47,  48,  49,  50,  51,\n",
        "        52,  53,  54,  55,  56,  57,  58,  59,  60,  61,  62,  63,  64,\n",
        "        65,  66,  67,  68,  69,  70,  71,  72,  73,  74,  75,  76,  77,\n",
        "        78,  79,  80,  81,  82,  83,  84,  85,  86,  87,  88,  89,  90,\n",
        "        91,  92,  93,  94,  95,  96,  97,  98,  99, 100, 101, 102, 103,\n",
        "       104, 105, 106, 107, 108, 109, 110, 111, 112, 113, 114, 115, 116,\n",
        "       117, 118, 119, 120, 121, 122, 123, 124, 125, 126, 127, 128, 129,\n",
        "       130, 131, 132, 133, 134, 135, 136, 137, 138, 139, 140, 141, 142,\n",
        "       143, 144, 145, 146, 147, 148, 149, 150, 151, 152, 153, 154, 155,\n",
        "       156, 157, 158, 159, 160, 161, 162, 163, 164, 165, 166, 167, 168,\n",
        "       169, 170, 171, 172, 173, 174, 175, 176, 177, 178, 179, 180, 181,\n",
        "       182, 183, 184, 185, 186, 187, 188, 189, 190, 191, 192, 193, 194,\n",
        "       195, 196, 197, 198, 199, 200])"
       ]
      }
     ],
     "prompt_number": 59
    },
    {
     "cell_type": "code",
     "collapsed": false,
     "input": [],
     "language": "python",
     "metadata": {},
     "outputs": []
    }
   ],
   "metadata": {}
  }
 ]
}