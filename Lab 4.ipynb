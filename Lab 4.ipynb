{
 "metadata": {
  "name": ""
 },
 "nbformat": 3,
 "nbformat_minor": 0,
 "worksheets": [
  {
   "cells": [
    {
     "cell_type": "code",
     "collapsed": false,
     "input": [
      "import scipy.integrate as inter\n",
      "import scipy.special as spec"
     ],
     "language": "python",
     "metadata": {},
     "outputs": [],
     "prompt_number": 1
    },
    {
     "cell_type": "code",
     "collapsed": false,
     "input": [
      "def f1(t,tm):\n",
      "    return 1/sqrt(cos(t)-cos(tm))\n",
      "def f2(p,tm):\n",
      "    return 1/sqrt(1-(sin(p)*sin(tm/2))**2)\n",
      "def ftotal(tm):\n",
      "    return 1+sum(array([1./4,9./32,25./256,1225./16384])*sin(tm/2)**(2*arange(1,5)))"
     ],
     "language": "python",
     "metadata": {},
     "outputs": [],
     "prompt_number": 2
    },
    {
     "cell_type": "code",
     "collapsed": false,
     "input": [
      "print sqrt(2)/pi*inter.quad(f1,0,pi/180,args=(pi/180))[0]\n",
      "print 2/pi*inter.quad(f2,0,pi/2,args=(pi/180))[0]\n",
      "print ftotal(pi/180)"
     ],
     "language": "python",
     "metadata": {},
     "outputs": [
      {
       "output_type": "stream",
       "stream": "stdout",
       "text": [
        "1.0000190391\n",
        "1.00001903892\n",
        "1.00001903974\n"
       ]
      }
     ],
     "prompt_number": 3
    },
    {
     "cell_type": "code",
     "collapsed": false,
     "input": [
      "inter.romberg(f1,0,pi/180,args=(pi/180,))"
     ],
     "language": "python",
     "metadata": {},
     "outputs": [
      {
       "output_type": "stream",
       "stream": "stderr",
       "text": [
        "-c:2: RuntimeWarning: divide by zero encountered in double_scalars\n",
        "/Applications/anaconda/lib/python2.7/site-packages/scipy/integrate/quadrature.py:537: RuntimeWarning: invalid value encountered in double_scalars\n",
        "  return (tmp * c - b)/(tmp - 1.0)\n",
        "/Applications/anaconda/lib/python2.7/site-packages/scipy/integrate/quadrature.py:667: AccuracyWarning: divmax (10) exceeded. Latest difference = nan\n",
        "  AccuracyWarning)\n"
       ]
      },
      {
       "metadata": {},
       "output_type": "pyout",
       "prompt_number": 4,
       "text": [
        "nan"
       ]
      }
     ],
     "prompt_number": 4
    },
    {
     "cell_type": "code",
     "collapsed": false,
     "input": [
      "print 2/pi*inter.romberg(f2,0,pi/2,args=(pi/180,))"
     ],
     "language": "python",
     "metadata": {},
     "outputs": [
      {
       "output_type": "stream",
       "stream": "stdout",
       "text": [
        "1.00001903883\n"
       ]
      }
     ],
     "prompt_number": 5
    },
    {
     "cell_type": "code",
     "collapsed": false,
     "input": [
      "tmarray = linspace(pi/180.,170.*pi/180,170)\n",
      "darray = linspace(1,170,170)\n",
      "f1res = zeros_like(tmarray)\n",
      "f2res = zeros_like(tmarray)\n",
      "f3res = zeros_like(tmarray)\n",
      "for i in xrange(170):\n",
      "    f1res[i] = sqrt(2)/pi*inter.quad(f1,0,tmarray[i],args=(tmarray[i]))[0]\n",
      "    f2res[i] = 2/pi*inter.quad(f2,0,pi/2,args=(tmarray[i]))[0]\n",
      "    f3res[i] = ftotal(tmarray[i])"
     ],
     "language": "python",
     "metadata": {},
     "outputs": [],
     "prompt_number": 13
    },
    {
     "cell_type": "code",
     "collapsed": false,
     "input": [
      "clf()\n",
      "plot(darray,f1res,'b:',label ='Cosine Integral')\n",
      "plot(darray,f2res,'r--',label ='Sine Integral')\n",
      "plot(darray,f3res,'g-',label = 'Sine Power Series')\n",
      "ylabel('T/T0 (unitless)')\n",
      "xlabel('Maximal Angular Displacement (degrees)')\n",
      "title('Ratio of Period to 2*pi*(l/g)^(1/2) vs. Maximal Angular Displacement for a Simple Pendulum')\n",
      "legend(loc = 2)"
     ],
     "language": "python",
     "metadata": {},
     "outputs": [
      {
       "metadata": {},
       "output_type": "pyout",
       "prompt_number": 14,
       "text": [
        "<matplotlib.legend.Legend at 0x10db42b50>"
       ]
      }
     ],
     "prompt_number": 14
    },
    {
     "cell_type": "code",
     "collapsed": false,
     "input": [
      "real = 2/pi*spec.ellipk(sin(tmarray/2)**2)\n",
      "clf()\n",
      "plot(darray,abs(real-f1res)/real,'b:',label ='Cosine Integral Error')\n",
      "plot(darray,abs(real-f2res)/real,'r--',label ='Sine Integral Error')\n",
      "yscale('log')\n",
      "ylabel('Error of T/T0 (unitless)')\n",
      "xlabel('Maximal Angular Displacement (degrees)')\n",
      "title('Fractional Error of the Ratio of Period to 2*pi*(l/g)^(1/2) vs. Maximal Angular Displacement for a Simple Pendulum')\n",
      "legend()"
     ],
     "language": "python",
     "metadata": {},
     "outputs": [
      {
       "metadata": {},
       "output_type": "pyout",
       "prompt_number": 15,
       "text": [
        "<matplotlib.legend.Legend at 0x10df79b10>"
       ]
      }
     ],
     "prompt_number": 15
    },
    {
     "cell_type": "code",
     "collapsed": false,
     "input": [
      "sin(pi)**2"
     ],
     "language": "python",
     "metadata": {},
     "outputs": [
      {
       "metadata": {},
       "output_type": "pyout",
       "prompt_number": 9,
       "text": [
        "1.4997597826618576e-32"
       ]
      }
     ],
     "prompt_number": 9
    },
    {
     "cell_type": "code",
     "collapsed": false,
     "input": [
      "abs(f3res[0]-real[0])/real[0]"
     ],
     "language": "python",
     "metadata": {},
     "outputs": [
      {
       "metadata": {},
       "output_type": "pyout",
       "prompt_number": 10,
       "text": [
        "5.7114769430627728e-05"
       ]
      }
     ],
     "prompt_number": 10
    },
    {
     "cell_type": "code",
     "collapsed": false,
     "input": [
      "print abs(sqrt(2)/pi*inter.quad(f1,0,101*pi/180,args=(101*pi/180))[0]-2/pi*spec.ellipk(sin(101*pi/180/2)**2))/(2/pi*spec.ellipk(sin(101*pi/180/2)**2))\n",
      "print abs(2/pi*inter.quad(f2,0,pi/2,args=(101*pi/180))[0]-2/pi*spec.ellipk(sin(101*pi/180/2)**2))/(2/pi*spec.ellipk(sin(101*pi/180/2)**2))"
     ],
     "language": "python",
     "metadata": {},
     "outputs": [
      {
       "output_type": "stream",
       "stream": "stdout",
       "text": [
        "1.54965886731e-12\n",
        "0.0\n"
       ]
      }
     ],
     "prompt_number": 11
    },
    {
     "cell_type": "code",
     "collapsed": false,
     "input": [
      "2/pi*inter.quad(f2,0,pi/2,args=(101*pi/180))[1]"
     ],
     "language": "python",
     "metadata": {},
     "outputs": [
      {
       "metadata": {},
       "output_type": "pyout",
       "prompt_number": 12,
       "text": [
        "1.0985469880847176e-12"
       ]
      }
     ],
     "prompt_number": 12
    },
    {
     "cell_type": "code",
     "collapsed": false,
     "input": [
      "sqrt(2)/pi*inter.quad(f1,0,101*pi/180,args=(101*pi/180))[1]"
     ],
     "language": "python",
     "metadata": {},
     "outputs": [
      {
       "metadata": {},
       "output_type": "pyout",
       "prompt_number": 13,
       "text": [
        "1.3871081632429459e-10"
       ]
      }
     ],
     "prompt_number": 13
    },
    {
     "cell_type": "code",
     "collapsed": false,
     "input": [
      "print abs(f1res[100]-real[100])/real[100]\n",
      "print abs(f2res[100]-real[100])/real[100]"
     ],
     "language": "python",
     "metadata": {},
     "outputs": [
      {
       "output_type": "stream",
       "stream": "stdout",
       "text": [
        "1.49244345311e-12\n",
        "1.79358665198e-16\n"
       ]
      }
     ],
     "prompt_number": 14
    },
    {
     "cell_type": "code",
     "collapsed": false,
     "input": [
      "abs(f3res-real)/real"
     ],
     "language": "python",
     "metadata": {},
     "outputs": [
      {
       "metadata": {},
       "output_type": "pyout",
       "prompt_number": 12,
       "text": [
        "array([  8.15495688e-10,   1.30451997e-08,   6.60182755e-08,\n",
        "         2.08548408e-07,   5.08831549e-07,   1.05430300e-06,\n",
        "         1.95145407e-06,   3.32560867e-06,   5.32066012e-06,\n",
        "         8.09876866e-06,   1.18400202e-05,   1.67420466e-05,\n",
        "         2.30196085e-05,   3.09041408e-05,   4.06432622e-05,\n",
        "         5.25002478e-05,   6.67534684e-05,   8.36957935e-05,\n",
        "         1.03633963e-04,   1.26887922e-04,   1.53790130e-04,\n",
        "         1.84684831e-04,   2.19927297e-04,   2.59883045e-04,\n",
        "         3.04927012e-04,   3.55442716e-04,   4.11821379e-04,\n",
        "         4.74461026e-04,   5.43765552e-04,   6.20143770e-04,\n",
        "         7.04008420e-04,   7.95775167e-04,   8.95861556e-04,\n",
        "         1.00468595e-03,   1.12266646e-03,   1.25021977e-03,\n",
        "         1.38776009e-03,   1.53569789e-03,   1.69443876e-03,\n",
        "         1.86438218e-03,   2.04592026e-03,   2.23943646e-03,\n",
        "         2.44530431e-03,   2.66388602e-03,   2.89553120e-03,\n",
        "         3.14057538e-03,   3.39933865e-03,   3.67212419e-03,\n",
        "         3.95921677e-03,   4.26088126e-03,   4.57736107e-03,\n",
        "         4.90887661e-03,   5.25562363e-03,   5.61777161e-03,\n",
        "         5.99546210e-03,   6.38880701e-03,   6.79788687e-03,\n",
        "         7.22274909e-03,   7.66340614e-03,   8.11983378e-03,\n",
        "         8.59196916e-03,   9.07970897e-03,   9.58290757e-03,\n",
        "         1.01013750e-02,   1.06348751e-02,   1.11831236e-02,\n",
        "         1.17457859e-02,   1.23224754e-02,   1.29127514e-02,\n",
        "         1.35161168e-02,   1.41320165e-02,   1.47598353e-02,\n",
        "         1.53988955e-02,   1.60484553e-02,   1.67077070e-02,\n",
        "         1.73757743e-02,   1.80517109e-02,   1.87344985e-02,\n",
        "         1.94230448e-02,   2.01161818e-02,   2.08126636e-02,\n",
        "         2.15111652e-02,   2.22102802e-02,   2.29085197e-02,\n",
        "         2.36043103e-02,   2.42959928e-02,   2.49818209e-02,\n",
        "         2.56599595e-02,   2.63284835e-02,   2.69853773e-02,\n",
        "         2.76285327e-02,   2.82557490e-02,   2.88647314e-02,\n",
        "         2.94530908e-02,   3.00183430e-02,   3.05579082e-02,\n",
        "         3.10691111e-02,   3.15491803e-02,   3.19952485e-02,\n",
        "         3.24043526e-02,   3.27734341e-02,   3.30993392e-02,\n",
        "         3.33788199e-02,   3.36085342e-02,   3.37850474e-02,\n",
        "         3.39048330e-02,   3.39642739e-02,   3.39596636e-02,\n",
        "         3.38872080e-02,   3.37430266e-02,   3.35231547e-02,\n",
        "         3.32235449e-02,   3.28400692e-02,   3.23685211e-02,\n",
        "         3.18046176e-02,   3.11440017e-02,   3.03822445e-02,\n",
        "         2.95148474e-02,   2.85372446e-02,   2.74448055e-02,\n",
        "         2.62328369e-02,   2.48965849e-02,   2.34312376e-02,\n",
        "         2.18319268e-02,   2.00937296e-02,   1.82116706e-02,\n",
        "         1.61807227e-02,   1.39958083e-02,   1.16518001e-02,\n",
        "         9.14352133e-03,   6.46574517e-03,   3.61319414e-03,\n",
        "         5.80538413e-04,   2.63760655e-03,   6.04668330e-03,\n",
        "         9.65219671e-03,   1.34597195e-02,   1.74748993e-02,\n",
        "         2.17034669e-02,   2.61512466e-02,   3.08241689e-02,\n",
        "         3.57282847e-02,   4.08697833e-02,   4.62550127e-02,\n",
        "         5.18905042e-02,   5.77830010e-02,   6.39394916e-02,\n",
        "         7.03672496e-02,   7.70738799e-02,   8.40673731e-02,\n",
        "         9.13561701e-02,   9.89492376e-02,   1.06856158e-01,\n",
        "         1.15087236e-01,   1.23653628e-01,   1.32567489e-01,\n",
        "         1.41842166e-01,   1.51492414e-01,   1.61534674e-01,\n",
        "         1.71987408e-01,   1.82871518e-01,   1.94210875e-01,\n",
        "         2.06032985e-01,   2.18369849e-01,   2.31259080e-01,\n",
        "         2.44745389e-01,   2.58882580e-01,   2.73736295e-01,\n",
        "         2.89387885e-01,   3.05939998e-01])"
       ]
      }
     ],
     "prompt_number": 12
    },
    {
     "cell_type": "code",
     "collapsed": false,
     "input": [],
     "language": "python",
     "metadata": {},
     "outputs": []
    }
   ],
   "metadata": {}
  }
 ]
}