{
 "metadata": {
  "name": ""
 },
 "nbformat": 3,
 "nbformat_minor": 0,
 "worksheets": [
  {
   "cells": [
    {
     "cell_type": "code",
     "collapsed": false,
     "input": [
      "import scipy.integrate as inter\n",
      "import scipy.special as spec"
     ],
     "language": "python",
     "metadata": {},
     "outputs": [],
     "prompt_number": 1
    },
    {
     "cell_type": "code",
     "collapsed": false,
     "input": [
      "def f1(t,tm):\n",
      "    return 1/sqrt(cos(t)-cos(tm))\n",
      "def f2(p,tm):\n",
      "    return 1/sqrt(1-(sin(p)*sin(tm/2))**2)\n",
      "def ftotal(tm):\n",
      "    return 1+sum(array([-1./2,-1./8,-1./16,-5./128])*sin(tm/2)**(2*arange(1,5)))"
     ],
     "language": "python",
     "metadata": {},
     "outputs": [],
     "prompt_number": 2
    },
    {
     "cell_type": "code",
     "collapsed": false,
     "input": [
      "print sqrt(2)/pi*inter.quad(f1,0,pi/180,args=(pi/180))[0]\n",
      "print 2/pi*inter.quad(f2,0,pi/2,args=(pi/180))[0]\n",
      "print ftotal(pi/180)"
     ],
     "language": "python",
     "metadata": {},
     "outputs": [
      {
       "output_type": "stream",
       "stream": "stdout",
       "text": [
        "1.0000190391\n",
        "1.00001903892\n",
        "0.999961923064\n"
       ]
      }
     ],
     "prompt_number": 3
    },
    {
     "cell_type": "code",
     "collapsed": false,
     "input": [
      "inter.romberg(f1,0,pi/180,args=(pi/180,))"
     ],
     "language": "python",
     "metadata": {},
     "outputs": [
      {
       "output_type": "stream",
       "stream": "stderr",
       "text": [
        "-c:2: RuntimeWarning: divide by zero encountered in double_scalars\n",
        "/Applications/anaconda/lib/python2.7/site-packages/scipy/integrate/quadrature.py:537: RuntimeWarning: invalid value encountered in double_scalars\n",
        "  return (tmp * c - b)/(tmp - 1.0)\n",
        "/Applications/anaconda/lib/python2.7/site-packages/scipy/integrate/quadrature.py:667: AccuracyWarning: divmax (10) exceeded. Latest difference = nan\n",
        "  AccuracyWarning)\n"
       ]
      },
      {
       "metadata": {},
       "output_type": "pyout",
       "prompt_number": 4,
       "text": [
        "nan"
       ]
      }
     ],
     "prompt_number": 4
    },
    {
     "cell_type": "code",
     "collapsed": false,
     "input": [
      "print 2/pi*inter.romberg(f2,0,pi/2,args=(pi/180,))"
     ],
     "language": "python",
     "metadata": {},
     "outputs": [
      {
       "output_type": "stream",
       "stream": "stdout",
       "text": [
        "1.00001903883\n"
       ]
      }
     ],
     "prompt_number": 5
    },
    {
     "cell_type": "code",
     "collapsed": false,
     "input": [
      "tmarray = linspace(pi/180.,170.*pi/180,170)\n",
      "f1res = zeros_like(tmarray)\n",
      "f2res = zeros_like(tmarray)\n",
      "f3res = zeros_like(tmarray)\n",
      "for i in xrange(170):\n",
      "    f1res[i] = sqrt(2)/pi*inter.quad(f1,0,tmarray[i],args=(tmarray[i]))[0]\n",
      "    f2res[i] = 2/pi*inter.quad(f2,0,pi/2,args=(tmarray[i]))[0]\n",
      "    f3res[i] = ftotal(tmarray[i])"
     ],
     "language": "python",
     "metadata": {},
     "outputs": [],
     "prompt_number": 6
    },
    {
     "cell_type": "code",
     "collapsed": false,
     "input": [
      "clf()\n",
      "plot(tmarray,f1res,'b:',label ='Cosine Integral')\n",
      "plot(tmarray,f2res,'r--',label ='Sine Integral')\n",
      "plot(tmarray,f3res,'g-',label = 'Sine Power Series')\n",
      "ylabel('T/T0 (unitless)')\n",
      "xlabel('Maximal Angular Displacement (rad)')\n",
      "title('Ratio of Period to 2*pi*(l/g)^(1/2) vs. Maximal Angular Displacement for a Simple Pendulum')\n",
      "legend(loc = 2)"
     ],
     "language": "python",
     "metadata": {},
     "outputs": [
      {
       "metadata": {},
       "output_type": "pyout",
       "prompt_number": 7,
       "text": [
        "<matplotlib.legend.Legend at 0x1071e3b50>"
       ]
      }
     ],
     "prompt_number": 7
    },
    {
     "cell_type": "code",
     "collapsed": false,
     "input": [
      "real = 2/pi*spec.ellipk(sin(tmarray/2)**2)\n",
      "clf()\n",
      "#plot(tmarray,abs(real-f1res)/real,'b:',label ='Cosine Integral Error')\n",
      "plot(tmarray,abs(real-f2res)/real,'r--',label ='Sine Integral Error')\n",
      "yscale('log')\n",
      "ylabel('Error of T/T0 (unitless)')\n",
      "xlabel('Maximal Angular Displacement (rad)')\n",
      "title('Fractional Error of the Ratio of Period to 2*pi*(l/g)^(1/2) vs. Maximal Angular Displacement for a Simple Pendulum')\n",
      "legend()"
     ],
     "language": "python",
     "metadata": {},
     "outputs": [
      {
       "metadata": {},
       "output_type": "pyout",
       "prompt_number": 8,
       "text": [
        "<matplotlib.legend.Legend at 0x1071c6ad0>"
       ]
      }
     ],
     "prompt_number": 8
    },
    {
     "cell_type": "code",
     "collapsed": false,
     "input": [
      "sin(pi)**2"
     ],
     "language": "python",
     "metadata": {},
     "outputs": [
      {
       "metadata": {},
       "output_type": "pyout",
       "prompt_number": 9,
       "text": [
        "1.4997597826618576e-32"
       ]
      }
     ],
     "prompt_number": 9
    },
    {
     "cell_type": "code",
     "collapsed": false,
     "input": [
      "abs(f3res[0]-real[0])/real[0]"
     ],
     "language": "python",
     "metadata": {},
     "outputs": [
      {
       "metadata": {},
       "output_type": "pyout",
       "prompt_number": 10,
       "text": [
        "5.7114769430627728e-05"
       ]
      }
     ],
     "prompt_number": 10
    },
    {
     "cell_type": "code",
     "collapsed": false,
     "input": [
      "print abs(sqrt(2)/pi*inter.quad(f1,0,101*pi/180,args=(101*pi/180))[0]-2/pi*spec.ellipk(sin(101*pi/180/2)**2))/(2/pi*spec.ellipk(sin(101*pi/180/2)**2))\n",
      "print abs(2/pi*inter.quad(f2,0,pi/2,args=(101*pi/180))[0]-2/pi*spec.ellipk(sin(101*pi/180/2)**2))/(2/pi*spec.ellipk(sin(101*pi/180/2)**2))"
     ],
     "language": "python",
     "metadata": {},
     "outputs": [
      {
       "output_type": "stream",
       "stream": "stdout",
       "text": [
        "1.54965886731e-12\n",
        "0.0\n"
       ]
      }
     ],
     "prompt_number": 11
    },
    {
     "cell_type": "code",
     "collapsed": false,
     "input": [
      "2/pi*inter.quad(f2,0,pi/2,args=(101*pi/180))[1]"
     ],
     "language": "python",
     "metadata": {},
     "outputs": [
      {
       "metadata": {},
       "output_type": "pyout",
       "prompt_number": 12,
       "text": [
        "1.0985469880847176e-12"
       ]
      }
     ],
     "prompt_number": 12
    },
    {
     "cell_type": "code",
     "collapsed": false,
     "input": [
      "sqrt(2)/pi*inter.quad(f1,0,101*pi/180,args=(101*pi/180))[1]"
     ],
     "language": "python",
     "metadata": {},
     "outputs": [
      {
       "metadata": {},
       "output_type": "pyout",
       "prompt_number": 13,
       "text": [
        "1.3871081632429459e-10"
       ]
      }
     ],
     "prompt_number": 13
    },
    {
     "cell_type": "code",
     "collapsed": false,
     "input": [
      "print abs(f1res[100]-real[100])/real[100]\n",
      "print abs(f2res[100]-real[100])/real[100]"
     ],
     "language": "python",
     "metadata": {},
     "outputs": [
      {
       "output_type": "stream",
       "stream": "stdout",
       "text": [
        "1.49244345311e-12\n",
        "1.79358665198e-16\n"
       ]
      }
     ],
     "prompt_number": 14
    },
    {
     "cell_type": "code",
     "collapsed": false,
     "input": [],
     "language": "python",
     "metadata": {},
     "outputs": [],
     "prompt_number": 14
    }
   ],
   "metadata": {}
  }
 ]
}