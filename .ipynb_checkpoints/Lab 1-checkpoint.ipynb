{
 "metadata": {
  "name": ""
 },
 "nbformat": 3,
 "nbformat_minor": 0,
 "worksheets": [
  {
   "cells": [
    {
     "cell_type": "code",
     "collapsed": false,
     "input": [
      "import scipy.optimize as opt\n",
      "def wash(r,A1,A2,F=1.5):\n",
      "    return A1*cos(r) + A2*cos(2*r) - F*r\n",
      "print opt.bisect(wash,-3,2,args=(5,1))\n",
      "print opt.brentq(wash,-3,2,args=(5,1))"
     ],
     "language": "python",
     "metadata": {},
     "outputs": [
      {
       "output_type": "stream",
       "stream": "stdout",
       "text": [
        "1.10389279463\n",
        "-2.39502901832\n"
       ]
      }
     ],
     "prompt_number": 31
    },
    {
     "cell_type": "code",
     "collapsed": false,
     "input": [
      "def dwash(r,A1,A2,F=1.5):\n",
      "    return -A1*sin(r) - 2*A2*sin(2*r) - F\n",
      "print opt.brentq(dwash,-3,-1,args=(5,1))\n",
      "print opt.brentq(dwash,-1,1,args=(5,1))"
     ],
     "language": "python",
     "metadata": {},
     "outputs": [
      {
       "output_type": "stream",
       "stream": "stdout",
       "text": [
        "-2.36630976663\n",
        "-0.168519120277\n"
       ]
      }
     ],
     "prompt_number": 25
    },
    {
     "cell_type": "code",
     "collapsed": false,
     "input": [
      "cla()\n",
      "F = 6.02594\n",
      "A0 = 5\n",
      "A1 = 1\n",
      "minim = opt.brentq(dwash,-4,-1,args=(A0,A1,F))\n",
      "maxim = opt.brentq(dwash,-1,1,args=(A0,A1,F))\n",
      "plot(linspace(-4,4,100),wash(linspace(-4,4,100),A0,A1,F = F),'r-',label = 'Washboard Potential')\n",
      "plot(linspace(-4,4,100),dwash(linspace(-4,4,100),A0,A1,F = F),'b--',label = 'Derivative of Washboard Potential')\n",
      "axhline(xmin = -4, xmax = 4,color = 'black')\n",
      "axvline(x= minim, color = 'g', linestyle = '-.',label = 'Washboard Potential Minimum')\n",
      "axvline(x= maxim), color = 'g', linestyle = ':',label = 'Washboard Potential Maximum')\n",
      "axvline(color = 'black')\n",
      "legend()\n",
      "print "
     ],
     "language": "python",
     "metadata": {},
     "outputs": [
      {
       "metadata": {},
       "output_type": "pyout",
       "prompt_number": 74,
       "text": [
        "<matplotlib.legend.Legend at 0x10abe44d0>"
       ]
      }
     ],
     "prompt_number": 74
    }
   ],
   "metadata": {}
  }
 ]
}