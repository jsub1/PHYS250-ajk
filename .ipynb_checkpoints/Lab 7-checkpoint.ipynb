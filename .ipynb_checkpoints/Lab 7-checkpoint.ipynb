{
 "metadata": {
  "name": ""
 },
 "nbformat": 3,
 "nbformat_minor": 0,
 "worksheets": [
  {
   "cells": [
    {
     "cell_type": "code",
     "collapsed": false,
     "input": [
      "import scipy.linalg as la"
     ],
     "language": "python",
     "metadata": {},
     "outputs": [],
     "prompt_number": 1
    },
    {
     "cell_type": "code",
     "collapsed": false,
     "input": [
      "Aband = zeros((3,1001)) "
     ],
     "language": "python",
     "metadata": {},
     "outputs": [],
     "prompt_number": 2
    },
    {
     "cell_type": "code",
     "collapsed": false,
     "input": [
      "x = linspace(0,1,1001)\n",
      "r = 1e-4/(1./(x.size-1))**2\n",
      "Aband[0,1:] = -r\n",
      "Aband[1,:] = 2*(1+r)\n",
      "Aband[2,:1000] = -r\n",
      "T = zeros((1001,1001))\n",
      "T[0,:] = sin(pi*x)\n",
      "B = zeros_like(T)\n",
      "B[0,:2] = [2.*(1-r),r]\n",
      "for i in xrange(1,1000):\n",
      "    B[i,i-1:i+2] = [r,2.*(1-r),r]\n",
      "B[1000,999:] = [r,2.*(1-r)]"
     ],
     "language": "python",
     "metadata": {},
     "outputs": [],
     "prompt_number": 3
    },
    {
     "cell_type": "code",
     "collapsed": false,
     "input": [
      "def solve(T0,Aband,B):\n",
      "    T = zeros((1001,101))\n",
      "    T[0,:] = T0\n",
      "    for i in xrange(0,T.shape[0]-1):\n",
      "        rside = dot(B,T[i])\n",
      "        rside[0] = T[i,0]\n",
      "        rside[100] = T[i,100]\n",
      "      #  print rside\n",
      "        T[i+1,:] = la.solve_banded((1,1),Aband,rside)\n",
      "    return T"
     ],
     "language": "python",
     "metadata": {},
     "outputs": [],
     "prompt_number": 16
    },
    {
     "cell_type": "code",
     "collapsed": false,
     "input": [
      "def Ttrue(x,t):\n",
      "    return exp(-pi**2*t)*sin(pi*x)"
     ],
     "language": "python",
     "metadata": {},
     "outputs": [],
     "prompt_number": 61
    },
    {
     "cell_type": "code",
     "collapsed": false,
     "input": [
      "t = 1e-4*arange(1001)"
     ],
     "language": "python",
     "metadata": {},
     "outputs": [],
     "prompt_number": 26
    },
    {
     "cell_type": "code",
     "collapsed": false,
     "input": [
      "clf()\n",
      "plot(x,T[where(t==0)[0][0]],'b-',label = 'Time t=0')\n",
      "plot(x,T[where(t==0.025)[0][0]],'r-',label = 'Time t=0.025')\n",
      "plot(x,T[where(t==0.050)[0][0]],'g-',label = 'Time t=0.05')\n",
      "plot(x,T[where(t==0.075)[0][0]],'k-',label = 'Time t=0.075')\n",
      "plot(x,T[where(t==0.10)[0][0]],'c-',label = 'Time t=0.1')\n",
      "xlabel('Position')\n",
      "ylabel('Temperature')\n",
      "title('Temperature vs. Position at various times for a rod of length 1 with an inital temperature T(x)=sin(pi*x)')\n",
      "legend()"
     ],
     "language": "python",
     "metadata": {},
     "outputs": [
      {
       "metadata": {},
       "output_type": "pyout",
       "prompt_number": 7,
       "text": [
        "<matplotlib.legend.Legend at 0x1096517d0>"
       ]
      }
     ],
     "prompt_number": 7
    },
    {
     "cell_type": "code",
     "collapsed": false,
     "input": [
      "clf()\n",
      "imshow(T,extent=(0,1,.1,.0),aspect=10)\n",
      "ylim(ylim()[1],ylim()[0])\n",
      "cb = colorbar()\n",
      "cb.set_label('Temperature')\n",
      "xlabel('Position')\n",
      "ylabel('Time')\n",
      "title('Temperature as a function of position and time times for a rod of length 1 with an initial temperature T(x)=sin(pi*x)')\n",
      "#xticks(x)\n",
      "#yticks(t)"
     ],
     "language": "python",
     "metadata": {},
     "outputs": [
      {
       "metadata": {},
       "output_type": "pyout",
       "prompt_number": 10,
       "text": [
        "<matplotlib.text.Text at 0x10d5dd6d0>"
       ]
      }
     ],
     "prompt_number": 10
    },
    {
     "cell_type": "code",
     "collapsed": false,
     "input": [
      "r = 2e-4/(1/100.)**2\n",
      "Aband = zeros((3,101)) \n",
      "Aband[0,1:] = -r\n",
      "Aband[1,:] = 2*(1+r)\n",
      "Aband[2,:100] = -r\n",
      "Aband[0,1]=0\n",
      "Aband[1,0]=1\n",
      "Aband[1,100]=1\n",
      "Aband[2,99]=0\n",
      "T0prime = zeros((101))\n",
      "T0prime [:] =100\n",
      "T0prime [0] = 50\n",
      "B = zeros((101,101))\n",
      "B[0,:2] = [2.*(1-r),r]\n",
      "for i in xrange(1,100):\n",
      "    B[i,i-1:i+2] = [r,2.*(1-r),r]\n",
      "B[100,99:] = [r,2.*(1-r)]\n",
      "T0prime [100] = 200\n",
      "Tprime = solve(T0prime,Aband,B)"
     ],
     "language": "python",
     "metadata": {},
     "outputs": [],
     "prompt_number": 17
    },
    {
     "cell_type": "code",
     "collapsed": false,
     "input": [
      "t = 2e-4*arange(1001)"
     ],
     "language": "python",
     "metadata": {},
     "outputs": [
      {
       "metadata": {},
       "output_type": "pyout",
       "prompt_number": 18,
       "text": [
        "array([[   0.,    0., -100., ..., -100., -100., -100.],\n",
        "       [   1.,  202.,  202., ...,  202.,  202.,    1.],\n",
        "       [-100., -100., -100., ..., -100.,    0.,    0.]])"
       ]
      }
     ],
     "prompt_number": 18
    },
    {
     "cell_type": "code",
     "collapsed": false,
     "input": [
      "clf()\n",
      "imshow(Tprime,extent = (0,1,.2,0),aspect=5.)\n",
      "ylim(0,.2)\n",
      "cb = colorbar()\n",
      "cb.set_label('Temperature')\n",
      "xlabel('Position')\n",
      "ylabel('Time')\n",
      "title('Temperature as a function of position and time times for a rod of length 1 with the ends held at constant teperature')"
     ],
     "language": "python",
     "metadata": {},
     "outputs": [
      {
       "metadata": {},
       "output_type": "pyout",
       "prompt_number": 25,
       "text": [
        "<matplotlib.text.Text at 0x10c1125d0>"
       ]
      }
     ],
     "prompt_number": 25
    },
    {
     "cell_type": "code",
     "collapsed": false,
     "input": [
      "clf()\n",
      "plot(x,Tprime[where(t==0)[0][0]],'b:',label = 'Time t=0')\n",
      "plot(x,Tprime[where(t==0.01)[0][0]],'r--',label = 'Time t=0.01')\n",
      "plot(x,Tprime[where(t==0.025)[0][0]],'g-',label = 'Time t=0.025')\n",
      "plot(x,Tprime[where(t==0.05)[0][0]],'k-',label = 'Time t=0.05')\n",
      "plot(x,Tprime[where(t==0.2)[0][0]],'c-.',label = 'Time t=0.2')\n",
      "xlabel('Position')\n",
      "ylabel('Temperature')\n",
      "title('Temperature vs. Position at various times for a rod of length 1 with the temperature of the end points held constant')\n",
      "legend(loc = 2)"
     ],
     "language": "python",
     "metadata": {},
     "outputs": [
      {
       "metadata": {},
       "output_type": "pyout",
       "prompt_number": 54,
       "text": [
        "<matplotlib.legend.Legend at 0x1099f0450>"
       ]
      }
     ],
     "prompt_number": 54
    }
   ],
   "metadata": {}
  }
 ]
}