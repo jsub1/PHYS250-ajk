{
 "metadata": {
  "name": ""
 },
 "nbformat": 3,
 "nbformat_minor": 0,
 "worksheets": [
  {
   "cells": [
    {
     "cell_type": "code",
     "collapsed": false,
     "input": [
      "import scipy.optimize as opt\n",
      "def wash(r,A1,A2,F=1.5):\n",
      "    return A1*cos(r) + A2*cos(2*r) - F*r\n",
      "print opt.bisect(wash,-3,2,args=(5,1))\n",
      "print opt.brentq(wash,-3,2,args=(5,1))"
     ],
     "language": "python",
     "metadata": {},
     "outputs": [
      {
       "output_type": "stream",
       "stream": "stdout",
       "text": [
        "1.10389279463\n",
        "-2.39502901832\n"
       ]
      }
     ],
     "prompt_number": 1
    },
    {
     "cell_type": "code",
     "collapsed": false,
     "input": [
      "def dwash(r,A1,A2,F=1.5):\n",
      "    return -A1*sin(r) - 2*A2*sin(2*r) - F\n",
      "print opt.brentq(dwash,-3,-1,args=(5,1))\n",
      "print opt.brentq(dwash,-1,1,args=(5,1))"
     ],
     "language": "python",
     "metadata": {},
     "outputs": [
      {
       "output_type": "stream",
       "stream": "stdout",
       "text": [
        "-2.36630976663\n",
        "-0.168519120277\n"
       ]
      }
     ],
     "prompt_number": 2
    },
    {
     "cell_type": "code",
     "collapsed": false,
     "input": [
      "cla()\n",
      "F = 6.02594\n",
      "A0 = 5\n",
      "A1 = 1\n",
      "minim = opt.brentq(dwash,-4,-1,args=(A0,A1,F))\n",
      "maxim = opt.brentq(dwash,-1,1,args=(A0,A1,F))\n",
      "plot(linspace(-4,4,100),wash(linspace(-4,4,100),A0,A1,F = F),'r-',label = 'Washboard Potential')\n",
      "plot(linspace(-4,4,100),dwash(linspace(-4,4,100),A0,A1,F = F),'b--',label = 'Derivative of Washboard Potential')\n",
      "axhline(xmin = -4, xmax = 4,color = 'black')\n",
      "axvline(x= minim, color = 'g', linestyle = '-.',label = 'Washboard Potential Minimum')\n",
      "axvline(x= maxim, color = 'g', linestyle = ':',label = 'Washboard Potential Maximum')\n",
      "axvline(color = 'black')\n",
      "legend()\n",
      "print \"Max %f\\nMin: %f\\nSeperation: %f\" % (maxim,minim,maxim-minim)"
     ],
     "language": "python",
     "metadata": {},
     "outputs": [
      {
       "output_type": "stream",
       "stream": "stdout",
       "text": [
        "Max -0.999991\n",
        "Min: -1.186120\n",
        "Seperation: 0.186130\n"
       ]
      }
     ],
     "prompt_number": 3
    },
    {
     "cell_type": "code",
     "collapsed": false,
     "input": [],
     "language": "python",
     "metadata": {},
     "outputs": [],
     "prompt_number": 3
    }
   ],
   "metadata": {}
  }
 ]
}